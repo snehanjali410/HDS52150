{
  "cells": [
    {
      "cell_type": "markdown",
      "metadata": {
        "id": "sFuhQ3606wD2"
      },
      "source": [
        "# HDS5210-2024 Midterm\n",
        "\n",
        "In the midterm, you're going to use all the programming and data management skills you've developed so far to build a risk calculator that pretends to be integrated with a clinical registry.  You'll compute the PRIEST COVID-19 Clinical Severity Score for a series of patients and, based on their risk of an adverse outcome, query a REST web service to find a hospital to transfer them to. The end result of your work will be a list of instructions on where each patient should be discharged given their risk and various characteristics of the patient.\n",
        "\n",
        "Each step in the midterm will build up to form your complete solution.\n",
        "\n",
        "**Make sure you write good docstrings and doctests along the way!!**\n",
        "\n",
        "**The midterm is due at 11:59 PM CST on Monday, October 24th.**\n",
        "\n",
        "---"
      ]
    },
    {
      "cell_type": "markdown",
      "metadata": {
        "id": "dHO-0gdo6wD4"
      },
      "source": [
        "## Step 1: Calculate PRIEST Clinical Severity Score\n",
        "\n",
        "This scoring algorithm can be found [here on the MDCalc website](https://www.mdcalc.com/priest-covid-19-clinical-severity-score#evidence).  \n",
        "\n",
        "1. You will need to write a function called **priest()** with the following input parameters.  \n",
        " * Sex (Gender assigned at birth)\n",
        " * Age in years\n",
        " * Respiratory rate in breaths per minute\n",
        " * Oxygen saturation as a percent between 0 and 1\n",
        " * Heart rate in beats per minute\n",
        " * Systolic BP in mmHg\n",
        " * Temperature in degrees C\n",
        " * Alertness as a string description\n",
        " * Inspired Oxygen as as string description\n",
        " * Performance Status as a string description\n",
        "2. The function will need to follow the algorithm provided on the MDCalc website to compute a risk percentage that should be returned as a numeric value between 0 and 1.\n",
        "3. Be sure to use docstring documentation and at least three built-in docstring test cases.\n",
        "4. Assume that the input values that are strings could be any combination of upper or lower case. For example: 'male', 'Male', 'MALE', 'MalE' should all be interpretted by your code as male.\n",
        "5. If any of the inputs are invalid (for example a sex value that is not recognizable as male or female) your code should return None.\n",
        "\n",
        "NOTES:\n",
        "1. In the final step there is a table that translates from **PRIEST Score** to **30-day probability of an outcome** but the last two probabilities are shown as ranges (59-88% and >99%).  Our code needs to output a single number, however. For our code, use the following rule:\n",
        " * If PRIEST score is between 17 and 25, the probability you return should be 0.59\n",
        " * If PRIEST score is greater than or equal to 26, the probability you return should be 0.99\n"
      ]
    },
    {
      "cell_type": "code",
      "source": [
        "import doctest\n",
        "doctest.run_docstring_examples(find_hospital, globals(),verbose=True)"
      ],
      "metadata": {
        "colab": {
          "base_uri": "https://localhost:8080/"
        },
        "id": "Zc7BFcIH9uIu",
        "outputId": "6bba16d0-4f72-470a-9e48-fc86e35acf48"
      },
      "execution_count": 28,
      "outputs": [
        {
          "output_type": "stream",
          "name": "stdout",
          "text": [
            "Finding tests in NoName\n",
            "Trying:\n",
            "    find_hospital(99, 'malE', 0.43)\n",
            "Expecting:\n",
            "    'Wesley Woods Geriatric Hospital'\n",
            "ok\n",
            "Trying:\n",
            "    find_hospital(10, 'mAle', 0.30)\n",
            "Expecting:\n",
            "    'Childrens Healthcare of Atlanta at Scottish Rite'\n",
            "ok\n",
            "Trying:\n",
            "    find_hospital(50, 'F', '0.7')\n",
            "Expecting:\n",
            "    'Emory Dunwoody Medical Center'\n",
            "ok\n"
          ]
        }
      ]
    },
    {
      "cell_type": "code",
      "execution_count": 29,
      "metadata": {
        "id": "UAG1o3N86wD5"
      },
      "outputs": [],
      "source": [
        "def priest(sex, age, rr, o, h, sb, t, alert, aso, ps):\n",
        "\n",
        "  \"\"\"((str, int, int, int, int, float, float, str, str, str)) -> (float)\n",
        "\n",
        "    Using input variables in this function calculates the patient’s risk percentage from\n",
        "    different clinical measurements such as sex, age, respiratory rate, oxygen saturation, pulse rate,\n",
        "    systolic blood pressure, temperature, consciousness level, type of inspired oxygen, and performance status.\n",
        "\n",
        "    - sex (str): Biological sex (male, female).\n",
        "    - age (int): Age in years.\n",
        "    - rr (int): Respiratory rate (breaths per minute).\n",
        "    - o (float): Patient's oxygen saturation level (0 to 1).\n",
        "    - h (int): The heart rate (beats per minute).\n",
        "    - sb (int): The systolic blood pressure (mmHg).\n",
        "    - t (float): Temperature (Celsius).\n",
        "    - alert (str): Alertness status (\"alert\" or \"confused or not alert\").\n",
        "    - aso (str): Type of oxygen intake (\"air\" or \"supplemental oxygen\").\n",
        "    - ps (str): Physical performance status, reflecting their activity level:\n",
        "                         Can be one of the following:\n",
        "                         - \"unrestricted normal activity\"\n",
        "                         - \"limited strenuous activity, can do light activity\"\n",
        "                         - \"limited activity, can self-care\"\n",
        "                         - \"limited self-care\"\n",
        "                         - \"bed/chair bound, no self-care\"\n",
        "\n",
        "    Returns:\n",
        "    returning_p (float): Risk percentage (from 0 to 1) that estimates the patient's clinical risk based on the parameters. We will convert the total points into a risk percentage based on\n",
        "    predefined thresholds.\n",
        "\n",
        "    None: Returns None if any input value or data type is incorrect.\n",
        "    >>> priest('MalE', 60, 11, 0.94, 92, 90, 31.2,'Confused or Not alert', 'Air', 'limited strenuous activity, can do light activity')\n",
        "    0.55\n",
        "\n",
        "    >>> priest('MAle', 90, 90, 0.90, 40, 40, 30.0, 'Alert', 'Air', 'limited strenuous activity, can do light activity')\n",
        "    0.59\n",
        "\n",
        "\n",
        "    \"\"\"\n",
        "    # Initialize for calculating the risk points and risk percentage\n",
        "  add_p = 0\n",
        "  returning_p = 0\n",
        "\n",
        "  # Convert input str variables to lowercase\n",
        "  sex = sex.lower()\n",
        "  alert = alert.lower()\n",
        "  aso = aso.lower()\n",
        "  ps = ps.lower()\n",
        "\n",
        "  # Validate data types and input ranges\n",
        "  if type(age) != int:\n",
        "      return None\n",
        "  if type(rr) != int:\n",
        "      return None\n",
        "  if type(h) != int:\n",
        "      return None\n",
        "  if type(sb) != int:\n",
        "      return None\n",
        "  if type(o) != float:\n",
        "\n",
        "      return None\n",
        "  if type(t) != float:\n",
        "      return None\n",
        "  if ps not in [\"unrestricted normal activity\", \"limited strenuous activity, can do light activity\", \"limited activity, can self-care\", \"limited self-care\", \"bed/chair bound, no self-care\"]:\n",
        "      return None\n",
        "  if sex not in [\"male\", \"female\"]:\n",
        "      return None\n",
        "  if aso not in [\"air\", \"supplemental oxygen\"]:\n",
        "      return None\n",
        "  if alert not in [\"alert\", \"confused or not alert\"]:\n",
        "      return None\n",
        "      # Points for sex\n",
        "  add_p += 1 if sex == \"male\" else 0\n",
        "\n",
        "  # Points for respiratory rate\n",
        "  if rr < 9:\n",
        "      add_p += 3\n",
        "  elif 9 <= rr <= 11:\n",
        "      add_p += 1\n",
        "  elif 21 <= rr <= 24:\n",
        "      add_p += 2\n",
        "  elif rr > 24:\n",
        "      add_p += 3\n",
        "\n",
        "  # Points for oxygen saturation\n",
        "  if o > 0.95:\n",
        "      add_p += 0\n",
        "  elif 0.94 <= o <= 0.95:\n",
        "      add_p += 1\n",
        "  elif 0.92 <= o <= 0.93:\n",
        "      add_p += 2\n",
        "  elif o < 0.92:\n",
        "      add_p += 3\n",
        "\n",
        "  # Points for age\n",
        "  if age > 80:\n",
        "      add_p += 4\n",
        "  elif 66 <= age <= 80:\n",
        "      add_p += 3\n",
        "  elif 50 <= age <= 65:\n",
        "      add_p += 2\n",
        "\n",
        "  # Points for heart rate\n",
        "  if h < 41 or h > 130:\n",
        "      add_p += 3\n",
        "  elif 41 <= h <= 50 or 91 <= h <= 110:\n",
        "      add_p += 1\n",
        "  elif 111 <= h <= 130:\n",
        "      add_p += 2\n",
        "\n",
        " # Points for temperature C\n",
        "  if t < 35.1:\n",
        "      add_p += 3\n",
        "  elif 35.1 <= t <= 36.0 or 38.1 <= t <= 39.0:\n",
        "      add_p += 1\n",
        "\n",
        "  elif 36.1 <= t <= 38.0:\n",
        "      add_p += 0\n",
        "  else:\n",
        "      add_p += 2\n",
        "\n",
        "  # Points for systolic BP\n",
        "  if sb < 91:\n",
        "      add_p += 3\n",
        "  elif 91 <= sb <= 100:\n",
        "      add_p += 2\n",
        "  elif 101 <= sb <= 110:\n",
        "      add_p += 1\n",
        "  elif sb > 219:\n",
        "      add_p += 3\n",
        "\n",
        "\n",
        "  # Points for alertness\n",
        "  if alert == \"confused or not alert\":\n",
        "      add_p += 3\n",
        "  else:\n",
        "      add_p += 0\n",
        "\n",
        "  # Points for inspired oxygen\n",
        "  add_p += 2 if aso == \"supplemental oxygen\" else 0\n",
        "\n",
        "  # Points for performance status\n",
        "  if ps == \"bed/chair bound, no self-care\":\n",
        "      add_p += 4\n",
        "  elif ps == \"limited strenuous activity, can do light activity\":\n",
        "      add_p += 1\n",
        "  elif ps == \"limited activity, can self-care\":\n",
        "      add_p += 2\n",
        "\n",
        "  elif ps == \"limited self-care\":\n",
        "      add_p += 3\n",
        "  elif ps == \"unrestricted normal activity\":\n",
        "      add_p += 0\n",
        "\n",
        "  # Points to risk percentage\n",
        "  if add_p >= 0 and add_p <= 1:\n",
        "      returning_p += 0.01\n",
        "\n",
        "  elif 2 <= add_p <= 3:\n",
        "      returning_p += 0.02\n",
        "\n",
        "  elif add_p == 4:\n",
        "      returning_p += 0.03\n",
        "\n",
        "  elif add_p == 5:\n",
        "      returning_p += 0.09\n",
        "\n",
        "  elif add_p == 6:\n",
        "      returning_p += 0.15\n",
        "\n",
        "  elif add_p == 7:\n",
        "      returning_p += 0.18\n",
        "\n",
        "  elif add_p == 8:\n",
        "      returning_p += 0.22\n",
        "\n",
        "  elif add_p == 9:\n",
        "      returning_p += 0.26\n",
        "\n",
        "  elif add_p == 10:\n",
        "      returning_p += 0.29\n",
        "\n",
        "  elif add_p == 11:\n",
        "      returning_p += 0.34\n",
        "\n",
        "  elif add_p == 12:\n",
        "      returning_p += 0.38\n",
        "\n",
        "  elif add_p == 13:\n",
        "      returning_p += 0.46\n",
        "\n",
        "  elif add_p == 14:\n",
        "      returning_p += 0.47\n",
        "\n",
        "  elif add_p == 15:\n",
        "      returning_p += 0.49\n",
        "\n",
        "  elif add_p == 16:\n",
        "      returning_p += 0.55\n",
        "\n",
        "  elif 17 <= add_p <= 25:\n",
        "      returning_p += 0.59\n",
        "  else:\n",
        "      returning_p += 0.99\n",
        "\n",
        "# Final risk percentage return\n",
        "  return returning_p"
      ]
    },
    {
      "cell_type": "code",
      "execution_count": 30,
      "metadata": {
        "colab": {
          "base_uri": "https://localhost:8080/"
        },
        "id": "wgLtQTjq6wD6",
        "outputId": "78f3691d-c537-41ff-d451-c5fdd0b68d26"
      },
      "outputs": [
        {
          "output_type": "stream",
          "name": "stdout",
          "text": [
            "Finding tests in NoName\n",
            "Trying:\n",
            "    priest('MalE', 60, 11, 0.94, 92, 90, 31.2,'Confused or Not alert', 'Air', 'limited strenuous activity, can do light activity')\n",
            "Expecting:\n",
            "    0.55\n",
            "ok\n",
            "Trying:\n",
            "    priest('MAle', 90, 90, 0.90, 40, 40, 30.0, 'Alert', 'Air', 'limited strenuous activity, can do light activity')\n",
            "Expecting:\n",
            "    0.59\n",
            "ok\n"
          ]
        }
      ],
      "source": [
        "import doctest\n",
        "doctest.run_docstring_examples(priest, globals(),verbose=True)"
      ]
    },
    {
      "cell_type": "markdown",
      "metadata": {
        "id": "ol12Bs2f6wD6"
      },
      "source": [
        "## Part 2: Find a hospital\n",
        "\n",
        "The next thing we have to do is figure out where to send this particular patient.  The guidelines on where to send a patient are based on their age (pediatric, adult, geriatric), sex, and risk percentage.  Luckily, you don't have to implement these rules. I already have. All you have to do is use a REST web service that I've created for you.\n",
        "\n",
        "You'll want to use Python to make a call to my REST web service similar to the example URL below. The first part of the URL will be the same for everyone and every request that you make. What you will need to modify for each of your requests is the information after the question mark.\n",
        "\n",
        "```\n",
        "https://oumdj6oci2.execute-api.us-east-1.amazonaws.com/prd/?age=40&sex=male&risk_pct=0.1\n",
        "```\n",
        "\n",
        "The example above asks my web service where a 40-year old male with a risk of 10% should go.  What the web service will return back is a JSON string containing the information you need.  That JSON will look like this:\n",
        "\n",
        "```json\n",
        "{\n",
        "  \"age\": \"40\",\n",
        "  \"sex\": \"male\",\n",
        "  \"risk\": \"0.1\",\n",
        "  \"hospital\": \"Southwest Hospital and Medical Center\"\n",
        "}\n",
        "```\n",
        "\n",
        "My function is not smart enough to understand `'MALE'` is the same as `'male'`.  You have to send it exactly `'male'` or `'female'`\n",
        "\n",
        "1. Your job is to write a function called **find_hospital()** that takes age, sex, and risk as parameters.\n",
        "2. Your function should call this REST web service using the `requests` module\n",
        "3. Then your function will need to interpret the JSON it gets and return just the name of the hospital\n",
        "4. If anything fails, return None\n",
        "5. Include a good docstring with at least three test cases.\n"
      ]
    },
    {
      "cell_type": "code",
      "execution_count": 31,
      "metadata": {
        "id": "UY9T-OPT6wD7"
      },
      "outputs": [],
      "source": [
        "import requests"
      ]
    },
    {
      "cell_type": "code",
      "source": [
        "def find_hospital(age, sex, p):\n",
        "  \"\"\"(int, str, float) -> (str)\n",
        "  Accessing a web service to obtain information about hospitals and return the hospital name.\n",
        "\n",
        "  >>> find_hospital(99, 'malE', 0.43)\n",
        "  'Wesley Woods Geriatric Hospital'\n",
        "\n",
        "  >>> find_hospital(10, 'mAle', 0.30)\n",
        "  'Childrens Healthcare of Atlanta at Scottish Rite'\n",
        "\n",
        "  >>> find_hospital(50, 'F', '0.7')\n",
        "  'Emory Dunwoody Medical Center'\n",
        "\n",
        "  \"\"\"\n",
        "  # API URL with parameters\n",
        "  url = f'https://oumdj6oci2.execute-api.us-east-1.amazonaws.com/prd/?age={age}&sex={sex}&risk_pct={p}'\n",
        "\n",
        "  # GET request\n",
        "  rizz = requests.get(url)\n",
        "\n",
        "  # Parse the JSON\n",
        "  rizz_data = rizz.json()\n",
        "\n",
        "  # Extract name\n",
        "  nam = rizz_data.get('hospital')\n",
        "\n",
        "  # Return name\n",
        "  if rizz_data:\n",
        "    return nam\n",
        "  else:\n",
        "    return None"
      ],
      "metadata": {
        "id": "yEIjyuup7zaF"
      },
      "execution_count": 32,
      "outputs": []
    },
    {
      "cell_type": "code",
      "execution_count": 33,
      "metadata": {
        "colab": {
          "base_uri": "https://localhost:8080/"
        },
        "id": "ROv6l-PG6wD7",
        "outputId": "0e3f77db-5284-444c-bae8-ae56b899d684"
      },
      "outputs": [
        {
          "output_type": "stream",
          "name": "stdout",
          "text": [
            "Finding tests in NoName\n",
            "Trying:\n",
            "    find_hospital(99, 'malE', 0.43)\n",
            "Expecting:\n",
            "    'Wesley Woods Geriatric Hospital'\n",
            "ok\n",
            "Trying:\n",
            "    find_hospital(10, 'mAle', 0.30)\n",
            "Expecting:\n",
            "    'Childrens Healthcare of Atlanta at Scottish Rite'\n",
            "ok\n",
            "Trying:\n",
            "    find_hospital(50, 'F', '0.7')\n",
            "Expecting:\n",
            "    'Emory Dunwoody Medical Center'\n",
            "ok\n"
          ]
        }
      ],
      "source": [
        "import doctest\n",
        "doctest.run_docstring_examples(find_hospital, globals(),verbose=True)"
      ]
    },
    {
      "cell_type": "markdown",
      "metadata": {
        "id": "n6WaVGbA6wD7"
      },
      "source": [
        "## Part 3: Get the address for that hospital from a JSON file\n",
        "\n",
        "Great! Now we have code to tell us which hospital to send someone to... but we don't know where that hospital is. The next function we need to create is one that looks up the address of that hospital.  All of these hospitals are in Atlanta, Georgia.  We're going to use the list from this webpage to lookup the address for that hospital, based on its name.  https://www.officialusa.com/stateguides/health/hospitals/georgia.html\n",
        "\n",
        "Because we skipped the section about Beautiful Soup and working with HTML, I've converted this information into a JSON document for you.  It's available for you here.  Your code should retrieve this file using the `requests` module.\n",
        "\n",
        "`https://drive.google.com/uc?export=download&id=1fIFD-NkcdiMu941N4GjyMDWxiKsFJBw-`\n",
        "\n",
        "1. You need to create a function called **get_address()** that takes hospital name as a parameter and searches the data from this JSON file for the hospital you want to find.\n",
        "2. Your code will have to load the JSON and return the correct hospital based on name.\n",
        "3. If the hospital name isn't found, the function should return None.\n",
        "4. Be sure to use good docstring documentation and includes at least 3 test cases."
      ]
    },
    {
      "cell_type": "code",
      "execution_count": 34,
      "metadata": {
        "id": "CBmQqyQ06wD7"
      },
      "outputs": [],
      "source": [
        "import requests\n",
        "import json"
      ]
    },
    {
      "cell_type": "code",
      "source": [
        "def get_address(name):\n",
        "  \"\"\"(str) -> (str)\n",
        "   Utilizing the retrieved hospital information to acquire its address.\n",
        "\n",
        "   >>> get_address('SHEPHERD CENTER')\n",
        "   '2020 PEACHTREE ROAD NW'\n",
        "\n",
        "   >>> get_address('BUCKHEAD AMBULATORY SURGICAL CENTER')\n",
        "   '2061 PEACHTREE RD NW, UNIT 300'\n",
        "\n",
        "  \"\"\"\n",
        "\n",
        "  # Loading json\n",
        "  drive = 'https://drive.google.com/uc?export=download&id=1fIFD-NkcdiMu941N4GjyMDWxiKsFJBw-'\n",
        "\n",
        "  load_json = requests.get(drive)\n",
        "  rj = load_json.json()\n",
        "\n",
        "  # Convert and check\n",
        "  name = name.upper()\n",
        "\n",
        "  if name in rj:\n",
        "    return rj[name]['ADDRESS']\n",
        "\n",
        "  else:\n",
        "    return None\n",
        "\n"
      ],
      "metadata": {
        "id": "pjSnYtC48T0x"
      },
      "execution_count": 35,
      "outputs": []
    },
    {
      "cell_type": "code",
      "source": [
        "import doctest\n",
        "doctest.run_docstring_examples(get_address, globals(),verbose=True)"
      ],
      "metadata": {
        "colab": {
          "base_uri": "https://localhost:8080/"
        },
        "id": "Lea3MZWn8Vvy",
        "outputId": "6c0262b6-0955-4ce3-8065-43ce2af5bdcd"
      },
      "execution_count": 36,
      "outputs": [
        {
          "output_type": "stream",
          "name": "stdout",
          "text": [
            "Finding tests in NoName\n",
            "Trying:\n",
            "    get_address('SHEPHERD CENTER')\n",
            "Expecting:\n",
            "    '2020 PEACHTREE ROAD NW'\n",
            "ok\n",
            "Trying:\n",
            "    get_address('BUCKHEAD AMBULATORY SURGICAL CENTER')\n",
            "Expecting:\n",
            "    '2061 PEACHTREE RD NW, UNIT 300'\n",
            "ok\n"
          ]
        }
      ]
    },
    {
      "cell_type": "markdown",
      "metadata": {
        "id": "sEN6J0Fm6wD7"
      },
      "source": [
        "## Part 4: Run the risk calculator on a population\n",
        "\n",
        "At the link below, there is a file called `people.psv`.  It is a pipe-delimited (`|`) file with columns that match the inputs for the PRIEST calculation above.  Your code should use the `requests` module to retrieve the file from this URL.\n",
        "\n",
        "`https://drive.google.com/uc?export=download&id=1fLxJN9YGUqmqExrilxSS8furwUER5HHh`\n",
        "\n",
        "\n",
        "In addition, the file has a patient identifier in the first column.\n",
        "\n",
        "1. Write a function called **process_people()** that takes the file location above as its only parameter. Your Python program should use your code above to process all of these rows, determine the hospital and address, and return a list whose items are a dictionary like this: `{ patient_number: [sex, age, breath, o2sat, heart, systolic, temp, alertness, inspired, status, hospital, address]}`.  Look at the file in Part 5 for what the output looks like.\n",
        "2. Be sure to use good docstrings, but you don't need any tests in your doc strings.  I've provided those for you withe file in Part 5.\n",
        "\n",
        "\n",
        "**NOTE** that when running your code for all the 100 records in the `people.psv` file, it may take a few minutes to complete.  You're making multiple calls to the internet for each record, so that can take a little while.\n"
      ]
    },
    {
      "cell_type": "code",
      "execution_count": 37,
      "metadata": {
        "id": "ADUajDo66wD8"
      },
      "outputs": [],
      "source": [
        "import csv\n",
        "import requests"
      ]
    },
    {
      "cell_type": "code",
      "source": [
        "def process_people(drive):\n",
        "    \"\"\"(str) -> (list)\n",
        "\n",
        "    Get info from URL and return a list of dictionaries containing\n",
        "    patient information, including health and hospital details.\n",
        "\n",
        "    If any invalid inputs are found, the function returns None.\n",
        "\n",
        "    drive : Drive URL\n",
        "    \"\"\"\n",
        "\n",
        "    # Download\n",
        "    rizz = requests.get(drive)\n",
        "    # PSV\n",
        "    with open('people.psv', 'w') as f:\n",
        "        f.write(rizz.text)\n",
        "\n",
        "    # Open and read\n",
        "    with open('people.psv', 'r') as file:\n",
        "      # Read with delimiter\n",
        "        ctv = csv.reader(file, delimiter='|')\n",
        "\n",
        "        r = next(ctv)  # get  header\n",
        "\n",
        "        retur = []  # List to hold dictionaries\n",
        "\n",
        "        dt = {}\n",
        "        for row in ctv:\n",
        "            # Extract values and put them in there correct datatypes.\n",
        "\n",
        "            p, sex, age, b, oxs, htr, stb, tc, alt, otwo, sts = (\n",
        "                    row[r.index('patient')], row[r.index('sex')], int(row[r.index('age')]),\n",
        "                    int(row[r.index('breath')]), float(row[r.index('o2 sat')]),\n",
        "                    int(row[r.index('heart')]), int(row[r.index('systolic bp')]),\n",
        "                    float(row[r.index('temp')]), row[r.index('alertness')],\n",
        "                    row[r.index('inspired')], row[r.index('status')]\n",
        "                    )\n",
        "\n",
        "            # Get risk using the priest function\n",
        "            risk = priest(sex, age, b, oxs, htr, stb, tc, alt, otwo, sts)\n",
        "\n",
        "            # Use functions to get hospital details\n",
        "            name = find_hospital(age, sex, risk)\n",
        "\n",
        "            if name is None:\n",
        "                return None\n",
        "\n",
        "            gadd = get_address(str(name))\n",
        "\n",
        "            if gadd is None:\n",
        "                return None\n",
        "\n",
        "            # Make dictionary\n",
        "            p_details = {\n",
        "                p: [\n",
        "                    sex, age, float(b), float(oxs),\n",
        "                    float(htr), float(stb),\n",
        "                    float(tc), alt, otwo,\n",
        "                    sts, risk, name, gadd\n",
        "                ]\n",
        "            }\n",
        "            dt.update(p_details)  # Put them in list\n",
        "        retur.append(dt)\n",
        "\n",
        "    return retur  # Return list of dictionaries\n"
      ],
      "metadata": {
        "id": "77nb_HYS8fb1"
      },
      "execution_count": 38,
      "outputs": []
    },
    {
      "cell_type": "code",
      "source": [],
      "metadata": {
        "id": "MBLvNp1L8lpm"
      },
      "execution_count": 38,
      "outputs": []
    },
    {
      "cell_type": "markdown",
      "metadata": {
        "id": "DOEtmh2k6wD8"
      },
      "source": [
        "## Part 5: Checking your final results\n",
        "\n",
        "The final step is to check your results.  You should be able to compare your results to the output in `people_results.json` at the link below.  Write some code to check your results.  This does not need to be a function.\n",
        "\n",
        "`https://drive.google.com/uc?export=download&id=1gx1SSC20mO5XL6uYD0mdcM_cL91fcIW5`\n"
      ]
    },
    {
      "cell_type": "code",
      "execution_count": 39,
      "metadata": {
        "id": "z1990Rbb6wD8"
      },
      "outputs": [],
      "source": [
        "import requests\n",
        "import json"
      ]
    },
    {
      "cell_type": "code",
      "source": [
        "# Loading the first URL to fetch JSON data\n",
        "drive1 = 'https://drive.google.com/uc?export=download&id=1gx1SSC20mO5XL6uYD0mdcM_cL91fcIW5'\n",
        "drive2 = 'https://drive.google.com/uc?export=download&id=1fLxJN9YGUqmqExrilxSS8furwUER5HHh'"
      ],
      "metadata": {
        "id": "oZ0bYn138ph5"
      },
      "execution_count": 40,
      "outputs": []
    },
    {
      "cell_type": "code",
      "source": [
        "# Final test\n",
        "retur = []\n",
        "\n",
        "# Fetch and save JSON data from the first drive URL\n",
        "rdj = requests.get(drive1)\n",
        "rdj = rdj.json()\n",
        "\n",
        "# Save the JSON data\n",
        "with open('data.json', 'w') as i:\n",
        "    json.dump(rdj, i)\n",
        "\n",
        "retur.append(rdj)  # Append saved JSON data\n",
        "\n",
        "# Check my work\n",
        "if process_people(drive2) == retur:\n",
        "    print('Both of them are equal')\n",
        "else:\n",
        "    print('Both of them are not Equal')"
      ],
      "metadata": {
        "colab": {
          "base_uri": "https://localhost:8080/"
        },
        "id": "Esx9Iln-8tGQ",
        "outputId": "2a53841b-91b6-49e1-8843-d1f90188cb6b"
      },
      "execution_count": 27,
      "outputs": [
        {
          "output_type": "stream",
          "name": "stdout",
          "text": [
            "Both of them are equal\n"
          ]
        }
      ]
    },
    {
      "cell_type": "markdown",
      "metadata": {
        "id": "du8H1oIT6wD8"
      },
      "source": [
        "---\n",
        "\n",
        "## Check your work above\n",
        "\n",
        "If you didn't get them all correct, take a few minutes to think through those that aren't correct.\n",
        "\n",
        "\n",
        "## Submitting Your Work\n",
        "\n",
        "Submit your work as usual into a folder named `midterm`"
      ]
    },
    {
      "cell_type": "markdown",
      "metadata": {
        "id": "9gCg9gu96wD8"
      },
      "source": [
        "---"
      ]
    }
  ],
  "metadata": {
    "kernelspec": {
      "display_name": "Python 3",
      "language": "python",
      "name": "python3"
    },
    "language_info": {
      "codemirror_mode": {
        "name": "ipython",
        "version": 3
      },
      "file_extension": ".py",
      "mimetype": "text/x-python",
      "name": "python",
      "nbconvert_exporter": "python",
      "pygments_lexer": "ipython3",
      "version": "3.9.6"
    },
    "colab": {
      "provenance": []
    }
  },
  "nbformat": 4,
  "nbformat_minor": 0
}